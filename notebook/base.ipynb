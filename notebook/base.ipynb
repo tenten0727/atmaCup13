{
 "cells": [
  {
   "cell_type": "code",
   "execution_count": 131,
   "metadata": {},
   "outputs": [],
   "source": [
    "import os\n",
    "\n",
    "import pandas as pd\n",
    "from glob import glob\n",
    "import matplotlib.pyplot as plt\n",
    "import seaborn as sns\n",
    "import numpy as np"
   ]
  },
  {
   "cell_type": "code",
   "execution_count": 132,
   "metadata": {},
   "outputs": [],
   "source": [
    "# https://github.com/nyk510/vivid/blob/master/vivid/utils.py\n",
    "from contextlib import contextmanager\n",
    "from time import time\n",
    "\n",
    "class Timer:\n",
    "    def __init__(self, logger=None, format_str=\"{:.3f}[s]\", prefix=None, suffix=None, sep=\" \"):\n",
    "\n",
    "        if prefix: format_str = str(prefix) + sep + format_str\n",
    "        if suffix: format_str = format_str + sep + str(suffix)\n",
    "        self.format_str = format_str\n",
    "        self.logger = logger\n",
    "        self.start = None\n",
    "        self.end = None\n",
    "\n",
    "    @property\n",
    "    def duration(self):\n",
    "        if self.end is None:\n",
    "            return 0\n",
    "        return self.end - self.start\n",
    "\n",
    "    def __enter__(self):\n",
    "        self.start = time()\n",
    "\n",
    "    def __exit__(self, exc_type, exc_val, exc_tb):\n",
    "        self.end = time()\n",
    "        out_str = self.format_str.format(self.duration)\n",
    "        if self.logger:\n",
    "            self.logger.info(out_str)\n",
    "        else:\n",
    "            print(out_str)"
   ]
  },
  {
   "cell_type": "markdown",
   "metadata": {},
   "source": [
    "## 下準備"
   ]
  },
  {
   "cell_type": "code",
   "execution_count": 133,
   "metadata": {
    "scrolled": true
   },
   "outputs": [
    {
     "name": "stdout",
     "output_type": "stream",
     "text": [
      "../input/atmaCup13_dataset.zip\n",
      "../input/atmaCup13_sample_submission.csv\n",
      "../input/product_master.csv\n",
      "../input/coupon.csv\n",
      "../input/test_session.csv\n",
      "../input/cart_log.csv\n",
      "../input/session.csv\n",
      "../input/price.csv\n",
      "../input/coupon_target_jan.csv\n"
     ]
    }
   ],
   "source": [
    "INPUT_DIR = \"../input\"\n",
    "OUTPUT_DIR = \"../save/base\"\n",
    "SESSION_ID = \"session_id\"\n",
    "\n",
    "os.makedirs(OUTPUT_DIR, exist_ok=True)\n",
    "\n",
    "for p in glob(os.path.join(INPUT_DIR, \"*\")):\n",
    "    print(p)\n",
    "\n",
    "def read_csv(name, **kwrgs):\n",
    "    path = os.path.join(INPUT_DIR, name + \".csv\")\n",
    "    print(f\"Load: {path}\")\n",
    "    return pd.read_csv(path, **kwrgs)"
   ]
  },
  {
   "cell_type": "code",
   "execution_count": 134,
   "metadata": {},
   "outputs": [
    {
     "name": "stdout",
     "output_type": "stream",
     "text": [
      "Load: ../input/cart_log.csv\n"
     ]
    },
    {
     "name": "stderr",
     "output_type": "stream",
     "text": [
      "/home/yoshikawa/.pyenv/versions/3.8.5/lib/python3.8/site-packages/IPython/core/interactiveshell.py:3347: DtypeWarning: Columns (7) have mixed types.Specify dtype option on import or set low_memory=False.\n",
      "  if (await self.run_code(code, result,  async_=asy)):\n"
     ]
    },
    {
     "name": "stdout",
     "output_type": "stream",
     "text": [
      "Load: ../input/session.csv\n",
      "Load: ../input/test_session.csv\n",
      "Load: ../input/coupon.csv\n",
      "Load: ../input/coupon_target_jan.csv\n",
      "Load: ../input/price.csv\n",
      "Load: ../input/product_master.csv\n"
     ]
    }
   ],
   "source": [
    "# カートログ\n",
    "log_df = read_csv(\"cart_log\", parse_dates=[\"created_at__hour\"], dtype={ \"JAN\": str })\n",
    "\n",
    "# セッション情報\n",
    "session_df = read_csv(\"session\", parse_dates=[\"start_at__date\"])\n",
    "test_session_df = read_csv(\"test_session\")\n",
    "\n",
    "# クーポン情報\n",
    "coupon_df = read_csv(\"coupon\")\n",
    "coupon_target_jan_df = read_csv(\"coupon_target_jan\", dtype={ \"JAN\": str })\n",
    "\n",
    "# 商品情報\n",
    "price_df = read_csv(\"price\", dtype={ \"JAN\": str })\n",
    "product_master_df = read_csv(\"product_master\", dtype={ \"JAN\": str })"
   ]
  },
  {
   "cell_type": "code",
   "execution_count": 135,
   "metadata": {},
   "outputs": [
    {
     "name": "stdout",
     "output_type": "stream",
     "text": [
      "チーズのJANコード #1696\n"
     ]
    }
   ],
   "source": [
    "def get_target_jan_list():\n",
    "    \"\"\"予測対象のカテゴリ(チーズ)のJANコードを取得する\"\"\"\n",
    "    idx = product_master_df[\"category\"] == \"チーズ\"\n",
    "    return product_master_df[idx][\"JAN\"].unique()\n",
    "\n",
    "# 予測対象の JAN は変わらない (定数) ですので、それがわかるよう CAPITAL で定義します。\n",
    "TARGET_JANS = get_target_jan_list()\n",
    "\n",
    "print(f\"チーズのJANコード #{len(TARGET_JANS)}\")"
   ]
  },
  {
   "cell_type": "code",
   "execution_count": 136,
   "metadata": {},
   "outputs": [],
   "source": [
    "def calculate_buy_sessions(input_df: pd.DataFrame) -> set:\n",
    "    \"\"\"\n",
    "    180秒後にチーズカテゴリの商品を新規に購入したセッションを取得します.\n",
    "    \n",
    "    Args:\n",
    "        input_df: \n",
    "            cart_log.csv のデータ.\n",
    "\n",
    "    Returns:\n",
    "        購入があったセッション集合\n",
    "    \"\"\"\n",
    "\n",
    "    idx_after_180 = input_df[\"duration\"] >= 180\n",
    "    idx_has_cheese = input_df[\"JAN\"].isin(TARGET_JANS)\n",
    "\n",
    "    # 180秒後かつチーズの商品追加・削除に関係するログにしぼりこんで, \n",
    "    _df = input_df[idx_after_180 & idx_has_cheese].reset_index(drop=True)\n",
    "\n",
    "    # session ごとに JAN (商品) をいくつ買ったかを計算して,\n",
    "    sum_of_item = _df.groupby([\"session_id\", \"JAN\"])[\"n_items\"].sum().reset_index()\n",
    "\n",
    "    # 新しく購入があった session - JAN の index に絞り\n",
    "    idx = sum_of_item[\"n_items\"] > 0\n",
    "    sum_of_item = sum_of_item[idx]\n",
    "\n",
    "    # session の集合を計算します。これが「チーズを新しく買った」セッションです。\n",
    "    buy_sessions = sum_of_item[\"session_id\"].unique()\n",
    "    return set(buy_sessions)"
   ]
  },
  {
   "cell_type": "code",
   "execution_count": 137,
   "metadata": {},
   "outputs": [],
   "source": [
    "def create_train_test_sessions(session_df: pd.DataFrame, log_df: pd.DataFrame):\n",
    "    buy_sessions = calculate_buy_sessions(input_df=log_df)\n",
    "    \n",
    "    output_df = session_df.copy()\n",
    "    output_df[\"target\"] = session_df[SESSION_ID].isin(buy_sessions).astype(int)\n",
    "    \n",
    "    idx_test = session_df[SESSION_ID].isin(test_session_df[SESSION_ID])\n",
    "    return output_df[~idx_test].reset_index(drop=True), output_df[idx_test].reset_index(drop=True)"
   ]
  },
  {
   "cell_type": "code",
   "execution_count": 138,
   "metadata": {},
   "outputs": [],
   "source": [
    "def merge_by_session(left: pd.DataFrame, right: pd.DataFrame, drop_key=True) -> pd.DataFrame:\n",
    "    out_df = pd.merge(left[SESSION_ID], right, on=SESSION_ID, how=\"left\")\n",
    "    \n",
    "    if drop_key:\n",
    "        out_df = out_df.drop(columns=[SESSION_ID])\n",
    "    return out_df"
   ]
  },
  {
   "cell_type": "code",
   "execution_count": 139,
   "metadata": {},
   "outputs": [],
   "source": [
    "def clean_session_df(input_df: pd.DataFrame):\n",
    "    out_df = input_df.copy()\n",
    "    out_df[\"distance_to_the_store\"] = input_df[\"distance_to_the_store\"].replace(\"不明\", None).astype(float)\n",
    "    return out_df"
   ]
  },
  {
   "cell_type": "code",
   "execution_count": 140,
   "metadata": {},
   "outputs": [],
   "source": [
    "session_df = clean_session_df(session_df)\n",
    "\n",
    "# #1の講座と違って, 一番最初に train / test のセッションを作っておきます.\n",
    "train_df, test_df = create_train_test_sessions(session_df=session_df, log_df=log_df)"
   ]
  },
  {
   "cell_type": "code",
   "execution_count": 141,
   "metadata": {},
   "outputs": [],
   "source": [
    "idx_not_target = ~log_df[\"JAN\"].isin(TARGET_JANS)\n",
    "idx_train = log_df[\"session_id\"].isin(train_df[\"session_id\"])\n",
    "use_log_df = log_df[idx_not_target & idx_train].reset_index(drop=True)"
   ]
  },
  {
   "cell_type": "code",
   "execution_count": 157,
   "metadata": {},
   "outputs": [],
   "source": [
    "def filter_only_train_exclude_target() -> pd.DataFrame:\n",
    "    # 念の為 target のログデータは消す (何も考えずターゲットの情報を使ってしまうとリークになるため, 安全に行く)\n",
    "    idx_not_target = ~log_df[\"JAN\"].isin(TARGET_JANS)\n",
    "    idx_train = log_df[\"session_id\"].isin(train_df[\"session_id\"])\n",
    "    return log_df[idx_train & idx_not_target].reset_index(drop=True)\n",
    "\n",
    "def create_user_vector() -> pd.DataFrame:\n",
    "    \"\"\"ログデータ由来のユーザの特徴ベクトルを作成する\"\"\"\n",
    "    \n",
    "    use_log_df = filter_only_train_exclude_target()\n",
    "\n",
    "    _agg_df = pd.concat([\n",
    "        # セッション内の行数\n",
    "        use_log_df.groupby(\"session_id\").size().rename(\"n_logs\"),\n",
    "        # セッションでの購入した商品数\n",
    "        use_log_df.groupby(\"session_id\")[\"n_items\"].sum(),\n",
    "        # セッション中の経過時間の最初と最後\n",
    "        use_log_df.groupby(\"session_id\")[\"duration\"].agg([\"min\", \"max\"]).add_prefix(\"duration_\"),\n",
    "        # クーポン利用回数\n",
    "        use_log_df.groupby(\"session_id\")[\"coupon_is_activated\"].sum(),\n",
    "        # use_log_df.groupby(\"session_id\")[\"created_at__date\"].nunique(),\n",
    "        \n",
    "    ], axis=1)\n",
    "    \n",
    "    # 完全なログデータがあるのは学習期間のみなので, ユーザの表現ベクトルも学習期間のみを使って作る\n",
    "    # テスト期間のログは 180秒 しかみれないので、条件が揃わない\n",
    "    _df = pd.merge(train_df, _agg_df, on=SESSION_ID, how=\"left\")\n",
    "    out_df = _df.groupby(\"user_id\")[_agg_df.columns].mean().add_prefix(\"mean_\")    \n",
    "    return out_df"
   ]
  },
  {
   "cell_type": "code",
   "execution_count": 158,
   "metadata": {},
   "outputs": [],
   "source": [
    "def create_user_vactor_feature_v1(input_df: pd.DataFrame) -> pd.DataFrame:\n",
    "    \"\"\"ユーザの特徴ベクトルを紐付ける特徴量\"\"\"\n",
    "    \n",
    "    # 特徴ベクトルの作成. これをカスタムすると色々作れる!!\n",
    "    _df = create_user_vector()\n",
    "    out_df = pd.merge(\n",
    "        input_df[\"user_id\"], \n",
    "        _df, \n",
    "        on=\"user_id\", \n",
    "        how=\"left\"\n",
    "    ).drop(columns=[\"user_id\"])\n",
    "    \n",
    "    # test にしか現れないユーザはこのままだと Null になるので\n",
    "    # ユーザベクトルの平均で穴埋めする (ふつーのユーザと思うことにする)\n",
    "    out_df = out_df.fillna(_df.mean())\n",
    "    \n",
    "    return out_df.add_prefix(\"user_vector__dep=\")"
   ]
  },
  {
   "cell_type": "code",
   "execution_count": 159,
   "metadata": {},
   "outputs": [
    {
     "data": {
      "text/html": [
       "<div>\n",
       "<style scoped>\n",
       "    .dataframe tbody tr th:only-of-type {\n",
       "        vertical-align: middle;\n",
       "    }\n",
       "\n",
       "    .dataframe tbody tr th {\n",
       "        vertical-align: top;\n",
       "    }\n",
       "\n",
       "    .dataframe thead th {\n",
       "        text-align: right;\n",
       "    }\n",
       "</style>\n",
       "<table border=\"1\" class=\"dataframe\">\n",
       "  <thead>\n",
       "    <tr style=\"text-align: right;\">\n",
       "      <th></th>\n",
       "      <th>user_vector__dep=mean_n_logs</th>\n",
       "      <th>user_vector__dep=mean_n_items</th>\n",
       "      <th>user_vector__dep=mean_duration_min</th>\n",
       "      <th>user_vector__dep=mean_duration_max</th>\n",
       "      <th>user_vector__dep=mean_coupon_is_activated</th>\n",
       "    </tr>\n",
       "  </thead>\n",
       "  <tbody>\n",
       "    <tr>\n",
       "      <th>0</th>\n",
       "      <td>29.400000</td>\n",
       "      <td>21.400000</td>\n",
       "      <td>18.200000</td>\n",
       "      <td>1543.400000</td>\n",
       "      <td>0.800000</td>\n",
       "    </tr>\n",
       "    <tr>\n",
       "      <th>1</th>\n",
       "      <td>13.625000</td>\n",
       "      <td>8.625000</td>\n",
       "      <td>13.875000</td>\n",
       "      <td>1969.375000</td>\n",
       "      <td>0.187500</td>\n",
       "    </tr>\n",
       "    <tr>\n",
       "      <th>2</th>\n",
       "      <td>24.842105</td>\n",
       "      <td>17.789474</td>\n",
       "      <td>11.368421</td>\n",
       "      <td>1797.894737</td>\n",
       "      <td>0.368421</td>\n",
       "    </tr>\n",
       "    <tr>\n",
       "      <th>3</th>\n",
       "      <td>15.250000</td>\n",
       "      <td>9.250000</td>\n",
       "      <td>6.750000</td>\n",
       "      <td>594.250000</td>\n",
       "      <td>0.000000</td>\n",
       "    </tr>\n",
       "    <tr>\n",
       "      <th>4</th>\n",
       "      <td>22.071429</td>\n",
       "      <td>17.357143</td>\n",
       "      <td>28.000000</td>\n",
       "      <td>1065.857143</td>\n",
       "      <td>0.142857</td>\n",
       "    </tr>\n",
       "    <tr>\n",
       "      <th>...</th>\n",
       "      <td>...</td>\n",
       "      <td>...</td>\n",
       "      <td>...</td>\n",
       "      <td>...</td>\n",
       "      <td>...</td>\n",
       "    </tr>\n",
       "    <tr>\n",
       "      <th>25818</th>\n",
       "      <td>28.000000</td>\n",
       "      <td>23.111111</td>\n",
       "      <td>7.333333</td>\n",
       "      <td>1075.666667</td>\n",
       "      <td>0.000000</td>\n",
       "    </tr>\n",
       "    <tr>\n",
       "      <th>25819</th>\n",
       "      <td>9.785714</td>\n",
       "      <td>8.428571</td>\n",
       "      <td>12.535714</td>\n",
       "      <td>850.964286</td>\n",
       "      <td>0.035714</td>\n",
       "    </tr>\n",
       "    <tr>\n",
       "      <th>25820</th>\n",
       "      <td>29.363636</td>\n",
       "      <td>22.181818</td>\n",
       "      <td>8.909091</td>\n",
       "      <td>1736.909091</td>\n",
       "      <td>0.454545</td>\n",
       "    </tr>\n",
       "    <tr>\n",
       "      <th>25821</th>\n",
       "      <td>22.302834</td>\n",
       "      <td>16.759948</td>\n",
       "      <td>13.990935</td>\n",
       "      <td>1514.263688</td>\n",
       "      <td>0.206888</td>\n",
       "    </tr>\n",
       "    <tr>\n",
       "      <th>25822</th>\n",
       "      <td>17.309524</td>\n",
       "      <td>13.261905</td>\n",
       "      <td>1.190476</td>\n",
       "      <td>915.785714</td>\n",
       "      <td>0.214286</td>\n",
       "    </tr>\n",
       "  </tbody>\n",
       "</table>\n",
       "<p>25823 rows × 5 columns</p>\n",
       "</div>"
      ],
      "text/plain": [
       "       user_vector__dep=mean_n_logs  user_vector__dep=mean_n_items  \\\n",
       "0                         29.400000                      21.400000   \n",
       "1                         13.625000                       8.625000   \n",
       "2                         24.842105                      17.789474   \n",
       "3                         15.250000                       9.250000   \n",
       "4                         22.071429                      17.357143   \n",
       "...                             ...                            ...   \n",
       "25818                     28.000000                      23.111111   \n",
       "25819                      9.785714                       8.428571   \n",
       "25820                     29.363636                      22.181818   \n",
       "25821                     22.302834                      16.759948   \n",
       "25822                     17.309524                      13.261905   \n",
       "\n",
       "       user_vector__dep=mean_duration_min  user_vector__dep=mean_duration_max  \\\n",
       "0                               18.200000                         1543.400000   \n",
       "1                               13.875000                         1969.375000   \n",
       "2                               11.368421                         1797.894737   \n",
       "3                                6.750000                          594.250000   \n",
       "4                               28.000000                         1065.857143   \n",
       "...                                   ...                                 ...   \n",
       "25818                            7.333333                         1075.666667   \n",
       "25819                           12.535714                          850.964286   \n",
       "25820                            8.909091                         1736.909091   \n",
       "25821                           13.990935                         1514.263688   \n",
       "25822                            1.190476                          915.785714   \n",
       "\n",
       "       user_vector__dep=mean_coupon_is_activated  \n",
       "0                                       0.800000  \n",
       "1                                       0.187500  \n",
       "2                                       0.368421  \n",
       "3                                       0.000000  \n",
       "4                                       0.142857  \n",
       "...                                          ...  \n",
       "25818                                   0.000000  \n",
       "25819                                   0.035714  \n",
       "25820                                   0.454545  \n",
       "25821                                   0.206888  \n",
       "25822                                   0.214286  \n",
       "\n",
       "[25823 rows x 5 columns]"
      ]
     },
     "execution_count": 159,
     "metadata": {},
     "output_type": "execute_result"
    }
   ],
   "source": [
    "create_user_vactor_feature_v1(test_df)"
   ]
  },
  {
   "cell_type": "code",
   "execution_count": 160,
   "metadata": {},
   "outputs": [],
   "source": [
    "def create_distance_to_the_store_feature(input_df: pd.DataFrame) -> pd.DataFrame:\n",
    "    return merge_by_session(left=input_df, right=session_df[[SESSION_ID, \"distance_to_the_store\"]])\n",
    "\n",
    "def create_start_at_date_feature(input_df: pd.DataFrame):\n",
    "    date_series = session_df[\"start_at__date\"]\n",
    "    _df = pd.DataFrame({\n",
    "        SESSION_ID: session_df[SESSION_ID],\n",
    "        \"dayofweek\": date_series.dt.dayofweek,\n",
    "    })\n",
    "    \n",
    "    return merge_by_session(input_df, _df)\n",
    "\n",
    "def create_one_hot_encoding_feature(input_df: pd.DataFrame, target_column: str) -> pd.DataFrame:\n",
    "    _series = merge_by_session(input_df, session_df)[target_column]\n",
    "    uniques = session_df[target_column].dropna().unique()\n",
    "\n",
    "    cat_series = pd.Categorical(_series, categories=uniques)\n",
    "    out_df = pd.get_dummies(cat_series)\n",
    "    out_df.columns = out_df.columns.tolist()\n",
    "    return out_df\n",
    "\n",
    "def create_session_one_hot_features(input_df: pd.DataFrame) -> pd.DataFrame:\n",
    "    use_columns = [\n",
    "        \"sex\",\n",
    "        \"age\"\n",
    "    ]\n",
    "    \n",
    "    out_df = pd.DataFrame()\n",
    "    \n",
    "    for c in use_columns:\n",
    "        _df = create_one_hot_encoding_feature(input_df, target_column=c).add_prefix(f\"{c}=\")\n",
    "        out_df = pd.concat([out_df, _df], axis=1)\n",
    "        \n",
    "    return out_df\n",
    "\n",
    "# 何回も使うので, 見えるログを `visible_log_df` として定義しておく\n",
    "idx_visible = log_df[\"duration\"] < 180\n",
    "visible_log_df = log_df[idx_visible].reset_index(drop=True)\n",
    "\n",
    "def create_visible_log_feature(input_df):\n",
    "    agg_df = pd.concat([\n",
    "        # セッションごとにイベントが何件あるか\n",
    "        visible_log_df.groupby(\"session_id\").size().rename(\"log_size\"),\n",
    "\n",
    "        visible_log_df.groupby(\"session_id\")[\"n_items\"].sum().rename(\"n_items_sum\"),\n",
    "\n",
    "        visible_log_df.groupby(\"session_id\")[\"JAN\"].nunique().rename(\"jan_uniques\"),\n",
    "    ], axis=1)\n",
    "\n",
    "    return merge_by_session(input_df, right=agg_df).add_prefix(\"visible_log__\").fillna(0)\n",
    "\n",
    "def build_features(input_df):\n",
    "    feature_functions = [\n",
    "        create_distance_to_the_store_feature,\n",
    "        create_start_at_date_feature,\n",
    "        create_session_one_hot_features,\n",
    "        create_visible_log_feature,\n",
    "        # NEW!\n",
    "        create_user_vactor_feature_v1,\n",
    "        \n",
    "        # もっと関数を作ったらここに入れていく!\n",
    "    ]\n",
    "    \n",
    "    print(\"start build featrures.\")\n",
    "    out_df = pd.DataFrame()\n",
    "\n",
    "    for func in feature_functions:\n",
    "        with Timer(prefix=f\"\\t -run: {func.__name__}...\"):\n",
    "            _df = func(input_df)\n",
    "        out_df = pd.concat([out_df, _df], axis=1)\n",
    "        \n",
    "    return out_df"
   ]
  },
  {
   "cell_type": "code",
   "execution_count": 161,
   "metadata": {},
   "outputs": [
    {
     "name": "stdout",
     "output_type": "stream",
     "text": [
      "start build featrures.\n",
      "\t -run: create_distance_to_the_store_feature... 0.069[s]\n",
      "\t -run: create_start_at_date_feature... 0.062[s]\n",
      "\t -run: create_session_one_hot_features... 0.175[s]\n",
      "\t -run: create_visible_log_feature... 0.508[s]\n",
      "\t -run: create_user_vactor_feature_v1... 1.540[s]\n",
      "start build featrures.\n",
      "\t -run: create_distance_to_the_store_feature... 0.053[s]\n",
      "\t -run: create_start_at_date_feature... 0.049[s]\n",
      "\t -run: create_session_one_hot_features... 0.118[s]\n",
      "\t -run: create_visible_log_feature... 0.484[s]\n",
      "\t -run: create_user_vactor_feature_v1... 1.533[s]\n"
     ]
    }
   ],
   "source": [
    "train_featuer_df = build_features(train_df)\n",
    "test_feature_df = build_features(test_df)"
   ]
  },
  {
   "cell_type": "code",
   "execution_count": 147,
   "metadata": {},
   "outputs": [],
   "source": [
    "# report = sv.compare([train_featuer_df, \"train\"], [test_feature_df, \"test\"])\n",
    "# report.show_html(os.path.join(OUTPUT_DIR, \"特徴量__train_vs_test.html\"))"
   ]
  },
  {
   "cell_type": "code",
   "execution_count": 162,
   "metadata": {},
   "outputs": [],
   "source": [
    "X, y = train_featuer_df.values, train_df[\"target\"].values"
   ]
  },
  {
   "cell_type": "code",
   "execution_count": 163,
   "metadata": {},
   "outputs": [],
   "source": [
    "# 今回は Stratified K Fold を利用\n",
    "from sklearn.model_selection import StratifiedKFold\n",
    "\n",
    "fold = StratifiedKFold(n_splits=5, shuffle=True, random_state=510)\n",
    "cv = fold.split(X, y)\n",
    "cv = list(cv) # split の返り値は generator なので list 化して何度も iterate できるようにしておく\n",
    "\n",
    "\n",
    "from sklearn.metrics import roc_auc_score\n",
    "import lightgbm as lgbm\n",
    "\n",
    "def fit_lgbm(X, \n",
    "             y, \n",
    "             cv, \n",
    "             params: dict=None, \n",
    "             verbose: int=50):\n",
    "    \"\"\"lightGBM を CrossValidation の枠組みで学習を行なう function\"\"\"\n",
    "\n",
    "    # パラメータがないときは、空の dict で置き換える\n",
    "    if params is None:\n",
    "        params = {}\n",
    "\n",
    "    models = []\n",
    "    n_records = len(X)\n",
    "    # training data の target と同じだけのゼロ配列を用意\n",
    "    oof_pred = np.zeros((n_records,), dtype=np.float32)\n",
    "\n",
    "    for i, (idx_train, idx_valid) in enumerate(cv): \n",
    "        # この部分が交差検証のところです。データセットを cv instance によって分割します\n",
    "        # training data を trian/valid に分割\n",
    "        x_train, y_train = X[idx_train], y[idx_train]\n",
    "        x_valid, y_valid = X[idx_valid], y[idx_valid]\n",
    "\n",
    "        clf = lgbm.LGBMClassifier(**params)\n",
    "\n",
    "        with Timer(prefix=\"fit fold={} \".format(i)):\n",
    "            clf.fit(x_train, y_train, \n",
    "                    eval_set=[(x_valid, y_valid)],  \n",
    "                    early_stopping_rounds=100,\n",
    "                    verbose=verbose)\n",
    "\n",
    "        pred_i = clf.predict_proba(x_valid)[:, 1]\n",
    "        oof_pred[idx_valid] = pred_i\n",
    "        models.append(clf)\n",
    "        # 今回の指標の macro f1 で計算する\n",
    "        score = roc_auc_score(y_valid, pred_i)\n",
    "        print(f\" - fold{i + 1} - {score:.4f}\")\n",
    "\n",
    "    score = roc_auc_score(y, oof_pred)\n",
    "    print(f\"{score:.4f}\")\n",
    "    return oof_pred, models"
   ]
  },
  {
   "cell_type": "code",
   "execution_count": 150,
   "metadata": {},
   "outputs": [],
   "source": [
    "goto_params = {\n",
    "    # 目的関数. これの意味で最小となるようなパラメータを探します. \n",
    "    \"objective\": \"binary\", \n",
    "\n",
    "     # 学習率. 小さいほどなめらかな決定境界が作られて性能向上に繋がる場合が多いです、\n",
    "    # がそれだけ木を作るため学習に時間がかかります\n",
    "    \"learning_rate\": .1,\n",
    "\n",
    "    # L2 Reguralization\n",
    "    \"reg_lambda\": .1,\n",
    "    # こちらは L1 \n",
    "    \"reg_alpha\": 0,\n",
    "\n",
    "    # 木の深さ. 深い木を許容するほどより複雑な交互作用を考慮するようになります\n",
    "    \"max_depth\": 5, \n",
    "\n",
    "    # 木の最大数. early_stopping という枠組みで木の数は制御されるようにしていますのでとても大きい値を指定しておきます.\n",
    "    \"n_estimators\": 10000, \n",
    "\n",
    "    # 木を作る際に考慮する特徴量の割合. 1以下を指定すると特徴をランダムに欠落させます。小さくすることで, まんべんなく特徴を使うという効果があります.\n",
    "    \"colsample_bytree\": .5, \n",
    "\n",
    "    # 最小分割でのデータ数. 小さいとより細かい粒度の分割方法を許容します.\n",
    "    \"min_child_samples\": 10,\n",
    "\n",
    "    # bagging の頻度と割合\n",
    "    \"subsample_freq\": 3,\n",
    "    \"subsample\": .9,\n",
    "\n",
    "    # 特徴重要度計算のロジック(後述)\n",
    "    \"importance_type\": \"gain\", \n",
    "    \"random_state\": 71,\n",
    "}"
   ]
  },
  {
   "cell_type": "code",
   "execution_count": 164,
   "metadata": {},
   "outputs": [
    {
     "name": "stdout",
     "output_type": "stream",
     "text": [
      "Training until validation scores don't improve for 100 rounds\n",
      "[50]\tvalid_0's binary_logloss: 0.261366\n",
      "[100]\tvalid_0's binary_logloss: 0.260106\n",
      "[150]\tvalid_0's binary_logloss: 0.259571\n",
      "[200]\tvalid_0's binary_logloss: 0.258866\n",
      "[250]\tvalid_0's binary_logloss: 0.258678\n",
      "[300]\tvalid_0's binary_logloss: 0.258623\n",
      "[350]\tvalid_0's binary_logloss: 0.258489\n",
      "[400]\tvalid_0's binary_logloss: 0.258629\n",
      "Early stopping, best iteration is:\n",
      "[315]\tvalid_0's binary_logloss: 0.258408\n",
      "fit fold=0  0.758[s]\n",
      " - fold1 - 0.6903\n",
      "Training until validation scores don't improve for 100 rounds\n",
      "[50]\tvalid_0's binary_logloss: 0.263229\n",
      "[100]\tvalid_0's binary_logloss: 0.262704\n",
      "[150]\tvalid_0's binary_logloss: 0.262254\n",
      "[200]\tvalid_0's binary_logloss: 0.262286\n",
      "[250]\tvalid_0's binary_logloss: 0.26204\n",
      "[300]\tvalid_0's binary_logloss: 0.262473\n",
      "Early stopping, best iteration is:\n",
      "[247]\tvalid_0's binary_logloss: 0.261986\n",
      "fit fold=1  0.688[s]\n",
      " - fold2 - 0.6730\n",
      "Training until validation scores don't improve for 100 rounds\n",
      "[50]\tvalid_0's binary_logloss: 0.263675\n",
      "[100]\tvalid_0's binary_logloss: 0.263093\n",
      "[150]\tvalid_0's binary_logloss: 0.262598\n",
      "[200]\tvalid_0's binary_logloss: 0.262311\n",
      "[250]\tvalid_0's binary_logloss: 0.26205\n",
      "[300]\tvalid_0's binary_logloss: 0.262162\n",
      "[350]\tvalid_0's binary_logloss: 0.262583\n",
      "Early stopping, best iteration is:\n",
      "[278]\tvalid_0's binary_logloss: 0.26192\n",
      "fit fold=2  0.654[s]\n",
      " - fold3 - 0.6685\n",
      "Training until validation scores don't improve for 100 rounds\n",
      "[50]\tvalid_0's binary_logloss: 0.264536\n",
      "[100]\tvalid_0's binary_logloss: 0.26461\n",
      "[150]\tvalid_0's binary_logloss: 0.264817\n",
      "Early stopping, best iteration is:\n",
      "[64]\tvalid_0's binary_logloss: 0.264504\n",
      "fit fold=3  0.487[s]\n",
      " - fold4 - 0.6542\n",
      "Training until validation scores don't improve for 100 rounds\n",
      "[50]\tvalid_0's binary_logloss: 0.260796\n",
      "[100]\tvalid_0's binary_logloss: 0.259749\n",
      "[150]\tvalid_0's binary_logloss: 0.258987\n",
      "[200]\tvalid_0's binary_logloss: 0.258622\n",
      "[250]\tvalid_0's binary_logloss: 0.258621\n",
      "[300]\tvalid_0's binary_logloss: 0.258449\n",
      "[350]\tvalid_0's binary_logloss: 0.258578\n",
      "Early stopping, best iteration is:\n",
      "[267]\tvalid_0's binary_logloss: 0.258447\n",
      "fit fold=4  0.646[s]\n",
      " - fold5 - 0.6892\n",
      "0.6752\n"
     ]
    }
   ],
   "source": [
    "oof, models = fit_lgbm(X=X, y=y, cv=cv, params=goto_params)"
   ]
  },
  {
   "cell_type": "code",
   "execution_count": 152,
   "metadata": {},
   "outputs": [
    {
     "data": {
      "image/png": "[encoded data removed]",
      "text/plain": [
       "<Figure size 800x900 with 1 Axes>"
      ]
     },
     "metadata": {},
     "output_type": "display_data"
    }
   ],
   "source": [
    "def visualize_importance(models, feat_train_df):\n",
    "    \"\"\"lightGBM の model 配列の feature importance を plot する\n",
    "    CVごとのブレを boxen plot として表現します.\n",
    "\n",
    "    args:\n",
    "        models:\n",
    "            List of lightGBM models\n",
    "        feat_train_df:\n",
    "            学習時に使った DataFrame\n",
    "    \"\"\"\n",
    "    feature_importance_df = pd.DataFrame()\n",
    "    for i, model in enumerate(models):\n",
    "        _df = pd.DataFrame()\n",
    "        _df[\"feature_importance\"] = model.feature_importances_\n",
    "        _df[\"column\"] = feat_train_df.columns\n",
    "        _df[\"fold\"] = i + 1\n",
    "        feature_importance_df = pd.concat([feature_importance_df, _df], \n",
    "                                          axis=0, ignore_index=True)\n",
    "\n",
    "    order = feature_importance_df.groupby(\"column\")\\\n",
    "        .sum()[[\"feature_importance\"]]\\\n",
    "        .sort_values(\"feature_importance\", ascending=False).index[:50]\n",
    "\n",
    "    fig, ax = plt.subplots(figsize=(8, max(6, len(order) * .25)))\n",
    "    sns.boxenplot(data=feature_importance_df, \n",
    "                  x=\"feature_importance\", \n",
    "                  y=\"column\", \n",
    "                  order=order, \n",
    "                  ax=ax, \n",
    "                  palette=\"viridis\", \n",
    "                  orient=\"h\")\n",
    "    ax.tick_params(axis=\"x\", rotation=90)\n",
    "    ax.set_title(\"Importance\")\n",
    "    ax.grid()\n",
    "    fig.tight_layout()\n",
    "    return fig, ax\n",
    "\n",
    "fig, ax = visualize_importance(models, train_featuer_df)"
   ]
  },
  {
   "cell_type": "markdown",
   "metadata": {},
   "source": [
    "#### 解釈\n",
    "\n",
    "* user_vector 系の特徴量が上に来ています。やはりどのユーザの購買なのか、はとても大事なようです。\n",
    "* 入力されている属性 (sex, age) よりも、購買がどうなっているかから作った特徴量 (user_vector) のほうが大事になっています。\n",
    "    * 具体的な行動をもとにした情報のほうが有用ということを意味しています。\n",
    "    * これは年齢や性別は入力されていても、それが正しいとは限らないケースがあることも原因と考えられます (例えば夫のカードを使って買い物している奥さんとか)"
   ]
  },
  {
   "cell_type": "code",
   "execution_count": 153,
   "metadata": {},
   "outputs": [],
   "source": [
    "def predict(input_df, models):\n",
    "    # k 個のモデルの予測確率 (predict_proba) を作成. shape = (k, N_test, n_classes).\n",
    "    pred_prob = np.array([model.predict_proba(input_df.values) for model in models])\n",
    "    print(f\"1. shape: {pred_prob.shape}\")\n",
    "\n",
    "    # k 個のモデルの平均を計算\n",
    "    pred_prob = np.mean(pred_prob, axis=0) # axis=0 なので shape の `k` が潰れる \n",
    "    print(f\"2. shape: {pred_prob.shape}\")\n",
    "\n",
    "    # ほしいのは y=1 の確率なので全要素の 1 次元目を取ってくる\n",
    "    pred_prob = pred_prob[:, 1]\n",
    "    print(f\"3. shape: {pred_prob.shape}\")\n",
    "    return pred_prob"
   ]
  },
  {
   "cell_type": "code",
   "execution_count": 154,
   "metadata": {},
   "outputs": [
    {
     "name": "stdout",
     "output_type": "stream",
     "text": [
      "1. shape: (5, 25823, 2)\n",
      "2. shape: (25823, 2)\n",
      "3. shape: (25823,)\n"
     ]
    }
   ],
   "source": [
    "pred_prob = predict(input_df=test_feature_df, models=models)"
   ]
  },
  {
   "cell_type": "code",
   "execution_count": 155,
   "metadata": {},
   "outputs": [
    {
     "name": "stderr",
     "output_type": "stream",
     "text": [
      "/home/yoshikawa/.pyenv/versions/3.8.5/lib/python3.8/site-packages/seaborn/distributions.py:2619: FutureWarning: `distplot` is a deprecated function and will be removed in a future version. Please adapt your code to use either `displot` (a figure-level function with similar flexibility) or `histplot` (an axes-level function for histograms).\n",
      "  warnings.warn(msg, FutureWarning)\n",
      "/home/yoshikawa/.pyenv/versions/3.8.5/lib/python3.8/site-packages/seaborn/distributions.py:2619: FutureWarning: `distplot` is a deprecated function and will be removed in a future version. Please adapt your code to use either `displot` (a figure-level function with similar flexibility) or `histplot` (an axes-level function for histograms).\n",
      "  warnings.warn(msg, FutureWarning)\n"
     ]
    },
    {
     "data": {
      "image/png": "[encoded data removed]",
      "text/plain": [
       "<Figure size 1000x600 with 1 Axes>"
      ]
     },
     "metadata": {},
     "output_type": "display_data"
    }
   ],
   "source": [
    "fig, ax = plt.subplots(figsize=(10, 6))\n",
    "\n",
    "sns.distplot(pred_prob, ax=ax, label=\"Test\")\n",
    "sns.distplot(oof, ax=ax, label=\"Out Of Fold (Train)\")\n",
    "ax.legend()\n",
    "ax.grid()"
   ]
  },
  {
   "cell_type": "code",
   "execution_count": 156,
   "metadata": {},
   "outputs": [],
   "source": [
    "pd.DataFrame({\n",
    "    \"target\": pred_prob\n",
    "}).to_csv(os.path.join(OUTPUT_DIR, \"tutorial_#2_submission.csv\"), index=False)"
   ]
  }
 ],
 "metadata": {
  "kernelspec": {
   "display_name": "Python 3",
   "language": "python",
   "name": "python3"
  },
  "language_info": {
   "codemirror_mode": {
    "name": "ipython",
    "version": 3
   },
   "file_extension": ".py",
   "mimetype": "text/x-python",
   "name": "python",
   "nbconvert_exporter": "python",
   "pygments_lexer": "ipython3",
   "version": "3.8.5"
  }
 },
 "nbformat": 4,
 "nbformat_minor": 4
}
