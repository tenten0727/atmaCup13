{
 "cells": [
  {
   "cell_type": "markdown",
   "id": "e15f5630",
   "metadata": {},
   "source": [
    "このディスカッションではword2vecを用いて商品をembeddingを行います。  \n",
    "[word2vecを利用した埋め込み分析とSWEMを用いた比較実験](https://speakerdeck.com/takapy/word2vecwoli-yong-sitamai-meip-mifen-xi-toswemwoyong-itabi-jiao-shi-yan)を非常に参考にさせていただきました。"
   ]
  },
  {
   "cell_type": "markdown",
   "id": "269b24e8",
   "metadata": {},
   "source": [
    "# word2vecによる分散表現の獲得"
   ]
  },
  {
   "cell_type": "code",
   "execution_count": 14,
   "id": "74deaf34",
   "metadata": {},
   "outputs": [],
   "source": [
    "import os\n",
    "import multiprocessing\n",
    "\n",
    "import numpy as np\n",
    "import pandas as pd\n",
    "import matplotlib.pyplot as plt\n",
    "import seaborn as sns\n",
    "\n",
    "from pathlib import Path\n",
    "from glob import glob\n",
    "\n",
    "from gensim.models import word2vec, KeyedVectors\n",
    "# import umap"
   ]
  },
  {
   "cell_type": "code",
   "execution_count": 15,
   "id": "6abfe6d5",
   "metadata": {},
   "outputs": [
    {
     "name": "stderr",
     "output_type": "stream",
     "text": [
      "/home/yoshikawa/.local/lib/python3.8/site-packages/IPython/core/interactiveshell.py:3012: DtypeWarning: Columns (7) have mixed types.Specify dtype option on import or set low_memory=False.\n",
      "  has_raised = await self.run_ast_nodes(code_ast.body, cell_name,\n"
     ]
    }
   ],
   "source": [
    "BASE_PATH = Path('../')\n",
    "INPUT_DIR = BASE_PATH / 'input'\n",
    "\n",
    "cartlog_df = pd.read_csv(INPUT_DIR / 'cart_log.csv')\n",
    "cartlog_df = cartlog_df[cartlog_df['action_name']=='買物']\n",
    "cartlog_df['item_detail_add_1'] = cartlog_df['item_detail_add_1'].fillna('欠損商品')"
   ]
  },
  {
   "cell_type": "code",
   "execution_count": 16,
   "id": "afb3c076",
   "metadata": {},
   "outputs": [],
   "source": [
    "# word2vecによる分散表現の学習\n",
    "def word2vec_vectorizer(input_df, col, replace=True):\n",
    "    path_name = f'word2vec_{col}.wordvectors'\n",
    "    if replace or os.path.exists(path_name):\n",
    "        model = word2vec.Word2Vec(\n",
    "            sentences=input_df[col].tolist(),\n",
    "            vector_size=32,\n",
    "            min_count=1,\n",
    "            window=5,\n",
    "            sg=1, # skip-gramモデルを使用するか(0: しない, 1: する)\n",
    "            hs=1, # 頻出単語をはじくか(0: はじく, 1: はじかない)\n",
    "            epochs=5,\n",
    "            workers=multiprocessing.cpu_count(),\n",
    "        )\n",
    "        model.wv.save(path_name)\n",
    "    model = KeyedVectors.load(path_name)\n",
    "    vectors = input_df[col].apply(lambda x: np.mean([model[e] for e in x], axis=0))\n",
    "    return vectors\n",
    "\n",
    "grp_df = cartlog_df.groupby(\"session_id\")[\"item_detail_add_1\"].apply(list).to_frame()\n",
    "train_vectors = word2vec_vectorizer(grp_df, 'item_detail_add_1')"
   ]
  },
  {
   "cell_type": "code",
   "execution_count": 24,
   "id": "dd5c8cc7",
   "metadata": {},
   "outputs": [],
   "source": [
    "# 学習した結果を用いてembedding\n",
    "model = KeyedVectors.load('word2vec_item_detail_add_1.wordvectors')\n",
    "item2vec = {item: model[item] for item in cartlog_df['item_detail_add_1'].unique()}\n",
    "item2vec_df = pd.DataFrame(item2vec).T"
   ]
  },
  {
   "cell_type": "code",
   "execution_count": 25,
   "id": "593e7ce9",
   "metadata": {},
   "outputs": [],
   "source": [
    "item2vec_df.columns = ['WE_'+str(col) for col in item2vec_df.columns]\n",
    "\n",
    "item2vec_df = item2vec_df.reset_index()\n",
    "item2vec_df = item2vec_df.rename(columns={'index': 'item_detail_add_1'})"
   ]
  },
  {
   "cell_type": "code",
   "execution_count": 26,
   "id": "1e5abe9a",
   "metadata": {},
   "outputs": [],
   "source": [
    "item2vec_df.to_pickle('../save/item2vec.pkl')"
   ]
  },
  {
   "cell_type": "code",
   "execution_count": 27,
   "id": "910e17b1",
   "metadata": {},
   "outputs": [
    {
     "data": {
      "text/html": [
       "<div>\n",
       "<style scoped>\n",
       "    .dataframe tbody tr th:only-of-type {\n",
       "        vertical-align: middle;\n",
       "    }\n",
       "\n",
       "    .dataframe tbody tr th {\n",
       "        vertical-align: top;\n",
       "    }\n",
       "\n",
       "    .dataframe thead th {\n",
       "        text-align: right;\n",
       "    }\n",
       "</style>\n",
       "<table border=\"1\" class=\"dataframe\">\n",
       "  <thead>\n",
       "    <tr style=\"text-align: right;\">\n",
       "      <th></th>\n",
       "      <th>item_detail_add_1</th>\n",
       "      <th>WE_0</th>\n",
       "      <th>WE_1</th>\n",
       "      <th>WE_2</th>\n",
       "      <th>WE_3</th>\n",
       "      <th>WE_4</th>\n",
       "      <th>WE_5</th>\n",
       "      <th>WE_6</th>\n",
       "      <th>WE_7</th>\n",
       "      <th>WE_8</th>\n",
       "      <th>...</th>\n",
       "      <th>WE_22</th>\n",
       "      <th>WE_23</th>\n",
       "      <th>WE_24</th>\n",
       "      <th>WE_25</th>\n",
       "      <th>WE_26</th>\n",
       "      <th>WE_27</th>\n",
       "      <th>WE_28</th>\n",
       "      <th>WE_29</th>\n",
       "      <th>WE_30</th>\n",
       "      <th>WE_31</th>\n",
       "    </tr>\n",
       "  </thead>\n",
       "  <tbody>\n",
       "    <tr>\n",
       "      <th>0</th>\n",
       "      <td>みかんM　　大箱</td>\n",
       "      <td>-0.514487</td>\n",
       "      <td>-0.033075</td>\n",
       "      <td>0.550641</td>\n",
       "      <td>0.069548</td>\n",
       "      <td>0.278677</td>\n",
       "      <td>-0.801782</td>\n",
       "      <td>0.516729</td>\n",
       "      <td>1.235958</td>\n",
       "      <td>-0.127477</td>\n",
       "      <td>...</td>\n",
       "      <td>-0.230008</td>\n",
       "      <td>0.340092</td>\n",
       "      <td>0.502318</td>\n",
       "      <td>-0.100363</td>\n",
       "      <td>0.487873</td>\n",
       "      <td>0.868714</td>\n",
       "      <td>-0.087240</td>\n",
       "      <td>-0.306108</td>\n",
       "      <td>-0.368800</td>\n",
       "      <td>0.743355</td>\n",
       "    </tr>\n",
       "    <tr>\n",
       "      <th>1</th>\n",
       "      <td>大盛__白糸こんにゃく５０</td>\n",
       "      <td>-0.146149</td>\n",
       "      <td>-0.353589</td>\n",
       "      <td>1.018491</td>\n",
       "      <td>0.477366</td>\n",
       "      <td>0.239085</td>\n",
       "      <td>0.010357</td>\n",
       "      <td>0.601837</td>\n",
       "      <td>0.058288</td>\n",
       "      <td>0.203697</td>\n",
       "      <td>...</td>\n",
       "      <td>-0.104798</td>\n",
       "      <td>1.103203</td>\n",
       "      <td>0.301417</td>\n",
       "      <td>-0.272717</td>\n",
       "      <td>-0.094404</td>\n",
       "      <td>-0.068904</td>\n",
       "      <td>0.445070</td>\n",
       "      <td>-0.065786</td>\n",
       "      <td>-0.174180</td>\n",
       "      <td>-0.020460</td>\n",
       "    </tr>\n",
       "    <tr>\n",
       "      <th>2</th>\n",
       "      <td>ベビーシュークリーム</td>\n",
       "      <td>-0.330114</td>\n",
       "      <td>-0.397534</td>\n",
       "      <td>0.169174</td>\n",
       "      <td>-0.101737</td>\n",
       "      <td>0.000875</td>\n",
       "      <td>0.160388</td>\n",
       "      <td>0.716118</td>\n",
       "      <td>-0.086521</td>\n",
       "      <td>-0.032288</td>\n",
       "      <td>...</td>\n",
       "      <td>0.168622</td>\n",
       "      <td>0.244968</td>\n",
       "      <td>0.015846</td>\n",
       "      <td>-0.092296</td>\n",
       "      <td>-0.223090</td>\n",
       "      <td>-0.028382</td>\n",
       "      <td>0.588407</td>\n",
       "      <td>-0.037854</td>\n",
       "      <td>-0.332171</td>\n",
       "      <td>-0.086298</td>\n",
       "    </tr>\n",
       "    <tr>\n",
       "      <th>3</th>\n",
       "      <td>システマハブラシ　超コン</td>\n",
       "      <td>-0.420249</td>\n",
       "      <td>0.099647</td>\n",
       "      <td>0.745661</td>\n",
       "      <td>-0.006738</td>\n",
       "      <td>0.412956</td>\n",
       "      <td>0.757717</td>\n",
       "      <td>-0.292513</td>\n",
       "      <td>-0.339556</td>\n",
       "      <td>0.181960</td>\n",
       "      <td>...</td>\n",
       "      <td>-0.129993</td>\n",
       "      <td>-0.494572</td>\n",
       "      <td>-0.019200</td>\n",
       "      <td>-0.352631</td>\n",
       "      <td>-0.000842</td>\n",
       "      <td>0.535420</td>\n",
       "      <td>0.383507</td>\n",
       "      <td>-0.184542</td>\n",
       "      <td>-0.284896</td>\n",
       "      <td>0.405740</td>\n",
       "    </tr>\n",
       "    <tr>\n",
       "      <th>4</th>\n",
       "      <td>アーモンド効果_砂糖不使用</td>\n",
       "      <td>-0.214873</td>\n",
       "      <td>-0.624910</td>\n",
       "      <td>0.746134</td>\n",
       "      <td>0.518793</td>\n",
       "      <td>0.263440</td>\n",
       "      <td>0.253628</td>\n",
       "      <td>0.068422</td>\n",
       "      <td>-0.744540</td>\n",
       "      <td>0.333025</td>\n",
       "      <td>...</td>\n",
       "      <td>0.159708</td>\n",
       "      <td>-0.671398</td>\n",
       "      <td>0.332945</td>\n",
       "      <td>0.456905</td>\n",
       "      <td>-0.068264</td>\n",
       "      <td>0.580323</td>\n",
       "      <td>-0.099976</td>\n",
       "      <td>-0.829716</td>\n",
       "      <td>-0.574757</td>\n",
       "      <td>0.140301</td>\n",
       "    </tr>\n",
       "  </tbody>\n",
       "</table>\n",
       "<p>5 rows × 33 columns</p>\n",
       "</div>"
      ],
      "text/plain": [
       "  item_detail_add_1      WE_0      WE_1      WE_2      WE_3      WE_4  \\\n",
       "0          みかんM　　大箱 -0.514487 -0.033075  0.550641  0.069548  0.278677   \n",
       "1     大盛__白糸こんにゃく５０ -0.146149 -0.353589  1.018491  0.477366  0.239085   \n",
       "2        ベビーシュークリーム -0.330114 -0.397534  0.169174 -0.101737  0.000875   \n",
       "3      システマハブラシ　超コン -0.420249  0.099647  0.745661 -0.006738  0.412956   \n",
       "4     アーモンド効果_砂糖不使用 -0.214873 -0.624910  0.746134  0.518793  0.263440   \n",
       "\n",
       "       WE_5      WE_6      WE_7      WE_8  ...     WE_22     WE_23     WE_24  \\\n",
       "0 -0.801782  0.516729  1.235958 -0.127477  ... -0.230008  0.340092  0.502318   \n",
       "1  0.010357  0.601837  0.058288  0.203697  ... -0.104798  1.103203  0.301417   \n",
       "2  0.160388  0.716118 -0.086521 -0.032288  ...  0.168622  0.244968  0.015846   \n",
       "3  0.757717 -0.292513 -0.339556  0.181960  ... -0.129993 -0.494572 -0.019200   \n",
       "4  0.253628  0.068422 -0.744540  0.333025  ...  0.159708 -0.671398  0.332945   \n",
       "\n",
       "      WE_25     WE_26     WE_27     WE_28     WE_29     WE_30     WE_31  \n",
       "0 -0.100363  0.487873  0.868714 -0.087240 -0.306108 -0.368800  0.743355  \n",
       "1 -0.272717 -0.094404 -0.068904  0.445070 -0.065786 -0.174180 -0.020460  \n",
       "2 -0.092296 -0.223090 -0.028382  0.588407 -0.037854 -0.332171 -0.086298  \n",
       "3 -0.352631 -0.000842  0.535420  0.383507 -0.184542 -0.284896  0.405740  \n",
       "4  0.456905 -0.068264  0.580323 -0.099976 -0.829716 -0.574757  0.140301  \n",
       "\n",
       "[5 rows x 33 columns]"
      ]
     },
     "execution_count": 27,
     "metadata": {},
     "output_type": "execute_result"
    }
   ],
   "source": [
    "item2vec_df.head()"
   ]
  },
  {
   "cell_type": "markdown",
   "id": "f20201bb",
   "metadata": {},
   "source": [
    "# word2vecを用いた類似したアイテムの出力\n",
    "\n",
    "ベビーチーズの近いものを見たけどなんだか良さそう🙌"
   ]
  },
  {
   "cell_type": "code",
   "execution_count": 20,
   "id": "3aee55f9",
   "metadata": {},
   "outputs": [
    {
     "data": {
      "text/plain": [
       "[('カマンベール入りベビーチ', 0.9093077182769775),\n",
       " ('アーモンド入りベビーチー', 0.8766981959342957),\n",
       " ('スモーク味ベビーチーズ', 0.8647148609161377),\n",
       " ('モッツァレラベビーチーズ', 0.8643010258674622),\n",
       " ('ブラックペッパー入りベビ', 0.858326256275177),\n",
       " ('おいしく健康プラスベビー', 0.8482185006141663),\n",
       " ('十勝のむヨーグルト糖質ｏ', 0.8290136456489563),\n",
       " ('リアロ\\u3000風呂いす\\u300030ｃｍ', 0.828390896320343),\n",
       " ('おうちDE居酒屋ベビーチー', 0.8272545337677002),\n",
       " ('毎日骨太ベビーチーズ', 0.8247004151344299)]"
      ]
     },
     "execution_count": 20,
     "metadata": {},
     "output_type": "execute_result"
    }
   ],
   "source": [
    "name = 'ベビーチーズ'\n",
    "model.most_similar(name) "
   ]
  },
  {
   "cell_type": "markdown",
   "id": "ac3adda4",
   "metadata": {},
   "source": [
    "# UMAPを用いた可視化"
   ]
  },
  {
   "cell_type": "code",
   "execution_count": 21,
   "id": "e418351a",
   "metadata": {},
   "outputs": [],
   "source": [
    "# um = umap.UMAP(random_state=42)\n",
    "# um.fit(item2vec_df)\n",
    "# um_vec = um.transform(item2vec_df)"
   ]
  },
  {
   "cell_type": "code",
   "execution_count": 22,
   "id": "5f7e646e",
   "metadata": {},
   "outputs": [],
   "source": [
    "# plt.figure(figsize=(8, 6))\n",
    "# plt.scatter(um_vec[:, 0], um_vec[:, 1], s=1)\n",
    "# plt.show()"
   ]
  }
 ],
 "metadata": {
  "kernelspec": {
   "display_name": "Python 3 (ipykernel)",
   "language": "python",
   "name": "python3"
  },
  "language_info": {
   "codemirror_mode": {
    "name": "ipython",
    "version": 3
   },
   "file_extension": ".py",
   "mimetype": "text/x-python",
   "name": "python",
   "nbconvert_exporter": "python",
   "pygments_lexer": "ipython3",
   "version": "3.8.5"
  }
 },
 "nbformat": 4,
 "nbformat_minor": 5
}
