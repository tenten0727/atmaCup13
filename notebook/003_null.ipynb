{
 "cells": [
  {
   "cell_type": "code",
   "execution_count": 1,
   "metadata": {},
   "outputs": [
    {
     "name": "stderr",
     "output_type": "stream",
     "text": [
      "/home/yoshikawa/.pyenv/versions/3.7.10/envs/kaggle/lib/python3.7/site-packages/IPython/core/interactiveshell.py:3170: DtypeWarning: Columns (7) have mixed types.Specify dtype option on import or set low_memory=False.\n",
      "  interactivity=interactivity, compiler=compiler, result=result)\n"
     ]
    }
   ],
   "source": [
    "import pandas as pd\n",
    "\n",
    "cart_log = pd.read_csv('../input/cart_log.csv')\n",
    "coupon_target_jan = pd.read_csv('../input/coupon_target_jan.csv')\n",
    "coupon = pd.read_csv('../input/coupon.csv')\n",
    "price = pd.read_csv('../input/price.csv')\n",
    "product_master = pd.read_csv('../input/product_master.csv')\n",
    "session = pd.read_csv('../input/session.csv')\n",
    "test_session = pd.read_csv('../input/test_session.csv')\n"
   ]
  },
  {
   "cell_type": "code",
   "execution_count": 6,
   "metadata": {},
   "outputs": [
    {
     "data": {
      "text/plain": [
       "session_id               object\n",
       "registor_number           int64\n",
       "user_id                  object\n",
       "sex                      object\n",
       "age                      object\n",
       "distance_to_the_store    object\n",
       "start_at__date           object\n",
       "start_at__hour            int64\n",
       "dtype: object"
      ]
     },
     "execution_count": 6,
     "metadata": {},
     "output_type": "execute_result"
    }
   ],
   "source": [
    "session.dtypes"
   ]
  },
  {
   "cell_type": "code",
   "execution_count": 2,
   "metadata": {},
   "outputs": [
    {
     "data": {
      "text/plain": [
       "session_id                 0\n",
       "registor_number            0\n",
       "user_id                    0\n",
       "sex                      409\n",
       "age                      409\n",
       "distance_to_the_store    409\n",
       "start_at__date             0\n",
       "start_at__hour             0\n",
       "dtype: int64"
      ]
     },
     "execution_count": 2,
     "metadata": {},
     "output_type": "execute_result"
    }
   ],
   "source": [
    "session.isnull().sum()"
   ]
  },
  {
   "cell_type": "code",
   "execution_count": 4,
   "metadata": {},
   "outputs": [
    {
     "data": {
      "text/plain": [
       "array(['2', '4', '17', '18', '1', '不明', '3', '5', '11', '6', '34', '9',\n",
       "       '13', '12', '14', '15', '21', '7', '25', nan, '8', '10', '26',\n",
       "       '24', '73', '22', '51', '20', '16', '85', '19', '23', '32', '33',\n",
       "       '31', '55', '29', '30', '27', '36', '38', '28', '41', '63', '67',\n",
       "       '89', '43', '53', '97', '45', '82', '78', '52', '91', '46', '74',\n",
       "       '71', '39', '64', '37', '57', '54', '95', '66', '50', '94', '35',\n",
       "       '62', '49', '90', '56', '72', '61', '86', '44', '87', '75', '99',\n",
       "       '60', '40', '47', '42', '80', '48', '88', '100', '68', '81', '65',\n",
       "       '92', '96'], dtype=object)"
      ]
     },
     "execution_count": 4,
     "metadata": {},
     "output_type": "execute_result"
    }
   ],
   "source": [
    "session.distance_to_the_store.unique()"
   ]
  },
  {
   "cell_type": "code",
   "execution_count": 5,
   "metadata": {},
   "outputs": [
    {
     "data": {
      "text/plain": [
       "array(['女性', '男性', '不明', nan], dtype=object)"
      ]
     },
     "execution_count": 5,
     "metadata": {},
     "output_type": "execute_result"
    }
   ],
   "source": [
    "session.sex.unique()"
   ]
  },
  {
   "cell_type": "code",
   "execution_count": 12,
   "metadata": {},
   "outputs": [
    {
     "data": {
      "text/plain": [
       "array(['60~64', '55~59', '35~39', '30~34', '25~29', '50~54', '70~74',\n",
       "       '65~69', '45~49', '不明', '15~19', '75~79', '40~44', nan, '20~24',\n",
       "       '80~84', '85~89', '10~14', '100~', '0~4', '90~94', '5~9', '95~99'],\n",
       "      dtype=object)"
      ]
     },
     "execution_count": 12,
     "metadata": {},
     "output_type": "execute_result"
    }
   ],
   "source": [
    "session.age.unique()"
   ]
  },
  {
   "cell_type": "code",
   "execution_count": 3,
   "metadata": {},
   "outputs": [
    {
     "data": {
      "text/plain": [
       "session_id                  0\n",
       "duration                    0\n",
       "action_name                 0\n",
       "action_detail               0\n",
       "item_name                   0\n",
       "item_detail              9403\n",
       "item_detail_add_1      115251\n",
       "item_detail_add_2      230448\n",
       "coupon_is_activated         0\n",
       "JAN                    193962\n",
       "n_items                     0\n",
       "created_at__date            0\n",
       "created_at__hour            0\n",
       "dtype: int64"
      ]
     },
     "execution_count": 3,
     "metadata": {},
     "output_type": "execute_result"
    }
   ],
   "source": [
    "cart_log.isnull().sum()"
   ]
  }
 ],
 "metadata": {
  "interpreter": {
   "hash": "ab5bd15bf7aab876c6c0c025a35fdaef139281ceaaa5e1860b6dfcabbc35150a"
  },
  "kernelspec": {
   "display_name": "Python 3.7.10 64-bit ('kaggle')",
   "language": "python",
   "name": "python3"
  },
  "language_info": {
   "codemirror_mode": {
    "name": "ipython",
    "version": 3
   },
   "file_extension": ".py",
   "mimetype": "text/x-python",
   "name": "python",
   "nbconvert_exporter": "python",
   "pygments_lexer": "ipython3",
   "version": "3.7.10"
  },
  "orig_nbformat": 4
 },
 "nbformat": 4,
 "nbformat_minor": 2
}
