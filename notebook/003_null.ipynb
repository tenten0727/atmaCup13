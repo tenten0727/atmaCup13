{
 "cells": [
  {
   "cell_type": "code",
   "execution_count": 1,
   "metadata": {},
   "outputs": [
    {
     "name": "stderr",
     "output_type": "stream",
     "text": [
      "/home/yoshikawa/.pyenv/versions/3.7.10/envs/kaggle/lib/python3.7/site-packages/IPython/core/interactiveshell.py:3170: DtypeWarning: Columns (7) have mixed types.Specify dtype option on import or set low_memory=False.\n",
      "  interactivity=interactivity, compiler=compiler, result=result)\n"
     ]
    }
   ],
   "source": [
    "import pandas as pd\n",
    "\n",
    "cart_log = pd.read_csv('../input/cart_log.csv')\n",
    "coupon_target_jan = pd.read_csv('../input/coupon_target_jan.csv')\n",
    "coupon = pd.read_csv('../input/coupon.csv')\n",
    "price = pd.read_csv('../input/price.csv')\n",
    "product_master = pd.read_csv('../input/product_master.csv')\n",
    "session = pd.read_csv('../input/session.csv')\n",
    "test_session = pd.read_csv('../input/test_session.csv')\n"
   ]
  },
  {
   "cell_type": "code",
   "execution_count": 2,
   "metadata": {},
   "outputs": [
    {
     "data": {
      "text/plain": [
       "session_id                 0\n",
       "registor_number            0\n",
       "user_id                    0\n",
       "sex                      409\n",
       "age                      409\n",
       "distance_to_the_store    409\n",
       "start_at__date             0\n",
       "start_at__hour             0\n",
       "dtype: int64"
      ]
     },
     "execution_count": 2,
     "metadata": {},
     "output_type": "execute_result"
    }
   ],
   "source": [
    "session.isnull().sum()"
   ]
  },
  {
   "cell_type": "code",
   "execution_count": 3,
   "metadata": {},
   "outputs": [
    {
     "data": {
      "text/plain": [
       "session_id                  0\n",
       "duration                    0\n",
       "action_name                 0\n",
       "action_detail               0\n",
       "item_name                   0\n",
       "item_detail              9403\n",
       "item_detail_add_1      115251\n",
       "item_detail_add_2      230448\n",
       "coupon_is_activated         0\n",
       "JAN                    193962\n",
       "n_items                     0\n",
       "created_at__date            0\n",
       "created_at__hour            0\n",
       "dtype: int64"
      ]
     },
     "execution_count": 3,
     "metadata": {},
     "output_type": "execute_result"
    }
   ],
   "source": [
    "cart_log.isnull().sum()"
   ]
  }
 ],
 "metadata": {
  "interpreter": {
   "hash": "ab5bd15bf7aab876c6c0c025a35fdaef139281ceaaa5e1860b6dfcabbc35150a"
  },
  "kernelspec": {
   "display_name": "Python 3.7.10 64-bit ('kaggle')",
   "language": "python",
   "name": "python3"
  },
  "language_info": {
   "codemirror_mode": {
    "name": "ipython",
    "version": 3
   },
   "file_extension": ".py",
   "mimetype": "text/x-python",
   "name": "python",
   "nbconvert_exporter": "python",
   "pygments_lexer": "ipython3",
   "version": "3.7.10"
  },
  "orig_nbformat": 4
 },
 "nbformat": 4,
 "nbformat_minor": 2
}
