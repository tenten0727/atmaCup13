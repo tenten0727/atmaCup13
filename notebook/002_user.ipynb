{
 "cells": [
  {
   "cell_type": "markdown",
   "metadata": {},
   "source": [
    "* コンペ初心者のため間違いなどありましたらご指摘お願いします\n",
    "* atmaCup#9 1st place solution (paoさんの解法)\n",
    "  * https://speakerdeck.com/go5paopao/atmacup-number-9-1st-place-solution?slide=10\n",
    "* 上記の記事を参考に今回のデータではユーザ重複率がどれくらいなのか調べました"
   ]
  },
  {
   "cell_type": "code",
   "execution_count": 2,
   "metadata": {},
   "outputs": [],
   "source": [
    "import pandas as pd\n",
    "\n",
    "session = pd.read_csv('../input/session.csv')\n",
    "test_session = pd.read_csv('../input/test_session.csv')"
   ]
  },
  {
   "cell_type": "code",
   "execution_count": 3,
   "metadata": {},
   "outputs": [],
   "source": [
    "train_session = session[~session['session_id'].isin(test_session['session_id'])]\n",
    "test_session = session[session['session_id'].isin(test_session['session_id'])]"
   ]
  },
  {
   "cell_type": "code",
   "execution_count": 4,
   "metadata": {},
   "outputs": [
    {
     "data": {
      "text/plain": [
       "((83338, 8), (25823, 8))"
      ]
     },
     "execution_count": 4,
     "metadata": {},
     "output_type": "execute_result"
    }
   ],
   "source": [
    "train_session.shape, test_session.shape"
   ]
  },
  {
   "cell_type": "code",
   "execution_count": 5,
   "metadata": {},
   "outputs": [
    {
     "data": {
      "text/plain": [
       "0.9376524803469775"
      ]
     },
     "execution_count": 5,
     "metadata": {},
     "output_type": "execute_result"
    }
   ],
   "source": [
    "num_duplicate_user = test_session['user_id'].isin(train_session['user_id'].unique()).sum()\n",
    "num_duplicate_user / test_session.shape[0]"
   ]
  },
  {
   "cell_type": "markdown",
   "metadata": {},
   "source": [
    "９割以上重複しているので、そのユーザがどんなユーザなのかをモデルに組み込むのは重要そう！\n",
    "重複していないユーザに関してはどう処理する？"
   ]
  },
  {
   "cell_type": "markdown",
   "metadata": {},
   "source": [
    "testだけのユーザ"
   ]
  },
  {
   "cell_type": "code",
   "execution_count": 8,
   "metadata": {},
   "outputs": [
    {
     "data": {
      "text/plain": [
       "134       976b72c18dca49562dc9a7d6366862b51a23a493f35277...\n",
       "149       8eefebc92b85b5ee339b447a9d0081d50ccec72626d166...\n",
       "206       5a65857da59f3cc3a28d937730de4675e77c02b96b843b...\n",
       "289       744664a882580e40ac6996c6ebbd42fe55d47494636f8d...\n",
       "403       fa3cb3e4050b2b79fe305c1d749bbbd26f25b2c80c0110...\n",
       "                                ...                        \n",
       "108630    aeffea4d4c51f218e2c650983a3ea2ab68f3db8b9c3479...\n",
       "108727    30e335e5aa2ef42a44dfc31d7fb4728bec5c9b34531719...\n",
       "108747    eaafb3a5b5ec5e83e4be0277fc7a42bdcc9d15a235dd59...\n",
       "109132    aff1c7fba0efe5ad2418c858b61b23969064ad817a2e2d...\n",
       "109154    c973f71eb917860aa4d69594a237b15a87442157e64cc8...\n",
       "Name: user_id, Length: 1610, dtype: object"
      ]
     },
     "execution_count": 8,
     "metadata": {},
     "output_type": "execute_result"
    }
   ],
   "source": [
    "test_session[~test_session['user_id'].isin(train_session['user_id'].unique())].user_id"
   ]
  }
 ],
 "metadata": {
  "interpreter": {
   "hash": "ab5bd15bf7aab876c6c0c025a35fdaef139281ceaaa5e1860b6dfcabbc35150a"
  },
  "kernelspec": {
   "display_name": "Python 3.7.10 64-bit ('kaggle')",
   "language": "python",
   "name": "python3"
  },
  "language_info": {
   "codemirror_mode": {
    "name": "ipython",
    "version": 3
   },
   "file_extension": ".py",
   "mimetype": "text/x-python",
   "name": "python",
   "nbconvert_exporter": "python",
   "pygments_lexer": "ipython3",
   "version": "3.8.5"
  },
  "orig_nbformat": 4
 },
 "nbformat": 4,
 "nbformat_minor": 2
}
