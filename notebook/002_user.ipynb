{
 "cells": [
  {
   "cell_type": "markdown",
   "metadata": {},
   "source": [
    "* コンペ初心者のため間違いなどありましたらご指摘お願いします\n",
    "* atmaCup#9 1st place solution (paoさんの解法)\n",
    "  * https://speakerdeck.com/go5paopao/atmacup-number-9-1st-place-solution?slide=10\n",
    "* 上記の記事を参考に今回のデータではユーザ重複率がどれくらいなのか調べました"
   ]
  },
  {
   "cell_type": "code",
   "execution_count": 11,
   "metadata": {},
   "outputs": [],
   "source": [
    "import pandas as pd\n",
    "\n",
    "session = pd.read_csv('../input/session.csv')\n",
    "test_session = pd.read_csv('../input/test_session.csv')"
   ]
  },
  {
   "cell_type": "code",
   "execution_count": 12,
   "metadata": {},
   "outputs": [],
   "source": [
    "train_session = session[~session['session_id'].isin(test_session['session_id'])]\n",
    "test_session = session[session['session_id'].isin(test_session['session_id'])]"
   ]
  },
  {
   "cell_type": "code",
   "execution_count": 13,
   "metadata": {},
   "outputs": [
    {
     "data": {
      "text/plain": [
       "((83338, 8), (25823, 8))"
      ]
     },
     "execution_count": 13,
     "metadata": {},
     "output_type": "execute_result"
    }
   ],
   "source": [
    "train_session.shape, test_session.shape"
   ]
  },
  {
   "cell_type": "code",
   "execution_count": 14,
   "metadata": {},
   "outputs": [
    {
     "data": {
      "text/plain": [
       "0.9376524803469775"
      ]
     },
     "execution_count": 14,
     "metadata": {},
     "output_type": "execute_result"
    }
   ],
   "source": [
    "num_duplicate_user = test_session['user_id'].isin(train_session['user_id'].unique()).sum()\n",
    "num_duplicate_user / test_session.shape[0]"
   ]
  },
  {
   "cell_type": "markdown",
   "metadata": {},
   "source": [
    "９割以上重複しているので、そのユーザがどんなユーザなのかをモデルに組み込むのは重要そう！\n",
    "重複していないユーザに関してはどう処理する？"
   ]
  }
 ],
 "metadata": {
  "interpreter": {
   "hash": "ab5bd15bf7aab876c6c0c025a35fdaef139281ceaaa5e1860b6dfcabbc35150a"
  },
  "kernelspec": {
   "display_name": "Python 3.7.10 64-bit ('kaggle')",
   "language": "python",
   "name": "python3"
  },
  "language_info": {
   "codemirror_mode": {
    "name": "ipython",
    "version": 3
   },
   "file_extension": ".py",
   "mimetype": "text/x-python",
   "name": "python",
   "nbconvert_exporter": "python",
   "pygments_lexer": "ipython3",
   "version": "3.7.10"
  },
  "orig_nbformat": 4
 },
 "nbformat": 4,
 "nbformat_minor": 2
}
