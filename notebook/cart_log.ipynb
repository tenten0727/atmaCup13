{
 "cells": [
  {
   "cell_type": "code",
   "execution_count": 2,
   "metadata": {},
   "outputs": [
    {
     "name": "stderr",
     "output_type": "stream",
     "text": [
      "/home/yoshikawa/.pyenv/versions/3.8.5/lib/python3.8/site-packages/IPython/core/interactiveshell.py:3155: DtypeWarning: Columns (7) have mixed types.Specify dtype option on import or set low_memory=False.\n",
      "  has_raised = await self.run_ast_nodes(code_ast.body, cell_name,\n"
     ]
    },
    {
     "data": {
      "text/plain": [
       "156"
      ]
     },
     "execution_count": 2,
     "metadata": {},
     "output_type": "execute_result"
    }
   ],
   "source": [
    "import datetime as dt\n",
    "import numpy as np\n",
    "import pandas as pd\n",
    "import os\n",
    "from sklearn.model_selection import KFold\n",
    "import sweetviz as sv\n",
    "from datetime import datetime, date, timedelta\n",
    "import calendar\n",
    "import jpholiday\n",
    "\n",
    "DATA_PATH = '../input/'\n",
    "\n",
    "cart_log = pd.read_csv(os.path.join(DATA_PATH, \"cart_log.csv\"))\n",
    "cart_log.groupby('session_id').JAN.count().max()"
   ]
  },
  {
   "cell_type": "code",
   "execution_count": 3,
   "metadata": {},
   "outputs": [
    {
     "data": {
      "text/plain": [
       "0"
      ]
     },
     "execution_count": 3,
     "metadata": {},
     "output_type": "execute_result"
    }
   ],
   "source": [
    "cart_log.groupby('session_id').JAN.count().min()"
   ]
  },
  {
   "cell_type": "code",
   "execution_count": 5,
   "metadata": {},
   "outputs": [
    {
     "data": {
      "text/plain": [
       "(109156,)"
      ]
     },
     "execution_count": 5,
     "metadata": {},
     "output_type": "execute_result"
    }
   ],
   "source": [
    "cart_log.groupby('session_id').duration.max().shape"
   ]
  },
  {
   "cell_type": "code",
   "execution_count": 7,
   "metadata": {},
   "outputs": [
    {
     "data": {
      "text/plain": [
       "27702"
      ]
     },
     "execution_count": 7,
     "metadata": {},
     "output_type": "execute_result"
    }
   ],
   "source": [
    "(cart_log.groupby('session_id').duration.max()<180).sum()"
   ]
  },
  {
   "cell_type": "code",
   "execution_count": 12,
   "metadata": {},
   "outputs": [
    {
     "data": {
      "text/plain": [
       "session_id\n",
       "00003ee1b7f34620ae81dba533c6d5a544513004fe5688b2a88560e071799c0e     True\n",
       "00011e97d485ffb7f78662972da6032d4103b1628d541f8f0b916fc011a592e6     True\n",
       "000280d2156d179a597167b269a69e5af556725eeaabae21226d755f73bf0bd9    False\n",
       "0002a4a49d2230456ce57f9709b7c97e1ee324906f4ed8993b579d0ef0ed6135     True\n",
       "000383cb2018d041d4976a0e26d2dc0b73918abd5a30c94179441f321aa598c0     True\n",
       "                                                                    ...  \n",
       "fffc962b9f45b0059808e4911a71a88e278afd156116ef8f0e2d07983b605718     True\n",
       "fffd70401bffc2d2b7c5980bce4d373d693f6ffa26f0bbe03837bcc6ddd46c25     True\n",
       "fffd9fafd8f535a35e4a5d526298c9ae4bf102d4329a6d8434815b6e0cad272d     True\n",
       "ffff3b41d0dadb1efd1d413aa9e8bbe66349455576c4375b5a9ccce3c4748790    False\n",
       "ffffdde1709024552278324dcbbeb8bc0e2bb39e462eb051ad14457da1c5a257     True\n",
       "Name: item_detail_add_1, Length: 109156, dtype: bool"
      ]
     },
     "execution_count": 12,
     "metadata": {},
     "output_type": "execute_result"
    }
   ],
   "source": [
    "cart_log.groupby('session_id').item_detail_add_1.agg(lambda x: 'レジ袋' in list(x))\n"
   ]
  },
  {
   "cell_type": "code",
   "execution_count": null,
   "metadata": {},
   "outputs": [],
   "source": []
  }
 ],
 "metadata": {
  "interpreter": {
   "hash": "c98e61c3b7d29100ace1f3ea8362df0d0810e1431b47281b255c1e661ce9a854"
  },
  "kernelspec": {
   "display_name": "Python 3.8.5 64-bit ('3.8.5')",
   "language": "python",
   "name": "python3"
  },
  "language_info": {
   "codemirror_mode": {
    "name": "ipython",
    "version": 3
   },
   "file_extension": ".py",
   "mimetype": "text/x-python",
   "name": "python",
   "nbconvert_exporter": "python",
   "pygments_lexer": "ipython3",
   "version": "3.8.5"
  },
  "orig_nbformat": 4
 },
 "nbformat": 4,
 "nbformat_minor": 2
}
